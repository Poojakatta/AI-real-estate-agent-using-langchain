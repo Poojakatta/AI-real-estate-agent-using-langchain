{
 "cells": [
  {
   "cell_type": "markdown",
   "id": "a108af04",
   "metadata": {},
   "source": [
    "# Project: HomeMatch AI Real estate Agent"
   ]
  },
  {
   "cell_type": "markdown",
   "id": "40f9a476",
   "metadata": {},
   "source": [
    "HomeMatch AI agent helps buyers to check for property options without intervention of human agent."
   ]
  },
  {
   "cell_type": "code",
   "execution_count": null,
   "id": "e723665e",
   "metadata": {},
   "outputs": [],
   "source": [
    "!pip install chromadb\n",
    "!pip install pandas"
   ]
  },
  {
   "cell_type": "code",
   "execution_count": 7,
   "id": "6554fd4c",
   "metadata": {},
   "outputs": [],
   "source": [
    "import os\n",
    "\n",
    "os.environ[\"OPENAI_API_KEY\"] = \"voc-2666137141266773666733673c46b3b31115.28063286\"\n",
    "os.environ[\"OPENAI_API_BASE\"] = \"https://openai.vocareum.com/v1\"\n",
    "\n",
    "from langchain.llms import OpenAI\n",
    "model = 'gpt-3.5-turbo'"
   ]
  },
  {
   "cell_type": "markdown",
   "id": "e5874b5e",
   "metadata": {},
   "source": [
    "### Generating Real Estate Listings"
   ]
  },
  {
   "cell_type": "code",
   "execution_count": 2,
   "id": "2dbde61d",
   "metadata": {},
   "outputs": [],
   "source": [
    "from langchain.chat_models import ChatOpenAI\n",
    "from langchain import LLMChain, PromptTemplate\n",
    "\n",
    "# constructing prompt to get 10 listings\n",
    "\n",
    "prompt_template = PromptTemplate(\n",
    "    input_variables=[],\n",
    "    template=\"\"\"\n",
    "Generate 10 diverse and different types property listings in Mexico in the following format. Include different themes like lakefront, boho, urban, apartment, condo, studio, downtown. Total number of listing should be ten:\n",
    "Neighborhood: Green Oaks\n",
    "Price: $800,000\n",
    "Bedrooms: 3\n",
    "Bathrooms: 2\n",
    "House Size: 2,000 sqft\n",
    "\n",
    "Description: Welcome to this eco-friendly oasis nestled in the heart of Green Oaks. This charming 3-bedroom, 2-bathroom home boasts energy-efficient features such as solar panels and a well-insulated structure. Natural light floods the living spaces, highlighting the beautiful hardwood floors and eco-conscious finishes. The open-concept kitchen and dining area lead to a spacious backyard with a vegetable garden, perfect for the eco-conscious family.\n",
    "\n",
    "Neighborhood Description: Green Oaks is a close-knit, environmentally-conscious community with access to organic grocery stores, community gardens, and bike paths. Take a stroll through the nearby Green Oaks Park or grab a cup of coffee at the cozy Green Bean Cafe. With easy access to public transportation and bike lanes, commuting is a breeze.\n",
    "\n",
    "return the list in the json format so that we can parse each listing\n",
    "\"\"\")"
   ]
  },
  {
   "cell_type": "code",
   "execution_count": 48,
   "id": "82f2f18b",
   "metadata": {},
   "outputs": [
    {
     "name": "stdout",
     "output_type": "stream",
     "text": [
      "{\n",
      "    \"listings\": [\n",
      "        {\n",
      "            \"Neighborhood\": \"Green Oaks\",\n",
      "            \"Price\": \"$800,000\",\n",
      "            \"Bedrooms\": 3,\n",
      "            \"Bathrooms\": 2,\n",
      "            \"House Size\": \"2,000 sqft\",\n",
      "            \"Description\": \"Welcome to this eco-friendly oasis nestled in the heart of Green Oaks. This charming 3-bedroom, 2-bathroom home boasts energy-efficient features such as solar panels and a well-insulated structure. Natural light floods the living spaces, highlighting the beautiful hardwood floors and eco-conscious finishes. The open-concept kitchen and dining area lead to a spacious backyard with a vegetable garden, perfect for the eco-conscious family.\",\n",
      "            \"Neighborhood Description\": \"Green Oaks is a close-knit, environmentally-conscious community with access to organic grocery stores, community gardens, and bike paths. Take a stroll through the nearby Green Oaks Park or grab a cup of coffee at the cozy Green Bean Cafe. With easy access to public transportation and bike lanes, commuting is a breeze.\"\n",
      "        },\n",
      "        {\n",
      "            \"Neighborhood\": \"Lakefront Paradise\",\n",
      "            \"Price\": \"$1,200,000\",\n",
      "            \"Bedrooms\": 4,\n",
      "            \"Bathrooms\": 3,\n",
      "            \"House Size\": \"3,500 sqft\",\n",
      "            \"Description\": \"Escape to this luxurious lakefront paradise featuring 4 bedrooms, 3 bathrooms, and breathtaking views of the crystal-clear water. The spacious open-concept living area opens up to a large deck, perfect for entertaining friends and family. Enjoy fishing, swimming, and boating right from your backyard.\",\n",
      "            \"Neighborhood Description\": \"Located in a serene lakefront community, this property offers peace and tranquility away from the hustle and bustle of city life. Explore hiking trails, waterfalls, and wildlife in the surrounding natural beauty.\"\n",
      "        },\n",
      "        {\n",
      "            \"Neighborhood\": \"Boho Hideaway\",\n",
      "            \"Price\": \"$500,000\",\n",
      "            \"Bedrooms\": 2,\n",
      "            \"Bathrooms\": 1,\n",
      "            \"House Size\": \"1,200 sqft\",\n",
      "            \"Description\": \"Step into this bohemian-style hideaway with 2 bedrooms, 1 bathroom, and a cozy living space adorned with colorful textiles and unique decor. The outdoor patio is perfect for enjoying morning coffee or evening cocktails surrounded by lush tropical foliage.\",\n",
      "            \"Neighborhood Description\": \"Located in a trendy boho neighborhood, this property is within walking distance to artisan shops, cafes, and live music venues. Embrace the artistic and free-spirited vibe of the area.\"\n",
      "        },\n",
      "        {\n",
      "            \"Neighborhood\": \"Urban Loft\",\n",
      "            \"Price\": \"$700,000\",\n",
      "            \"Bedrooms\": 1,\n",
      "            \"Bathrooms\": 1,\n",
      "            \"House Size\": \"1,000 sqft\",\n",
      "            \"Description\": \"Experience city living at its finest in this modern urban loft featuring 1 bedroom, 1 bathroom, and exposed brick walls. The industrial-chic design and high ceilings create a spacious and stylish atmosphere perfect for downtown living.\",\n",
      "            \"Neighborhood Description\": \"Located in the heart of the bustling city center, this property offers easy access to trendy restaurants, art galleries, and nightlife hotspots. Enjoy the convenience of urban living with shopping, entertainment, and transportation just steps away.\"\n",
      "        },\n",
      "        {\n",
      "            \"Neighborhood\": \"Luxury Condo\",\n",
      "            \"Price\": \"$1,500,000\",\n",
      "            \"Bedrooms\": 3,\n",
      "            \"Bathrooms\": 3,\n",
      "            \"House Size\": \"2,500 sqft\",\n",
      "            \"Description\": \"Indulge in luxury living in this spacious condo with 3 bedrooms, 3 bathrooms, and high-end finishes throughout. The wrap-around balcony offers panoramic views of the city skyline and ocean, perfect for watching the sunset in style.\",\n",
      "            \"Neighborhood Description\": \"Situated in an exclusive high-rise building, this property provides resort-style amenities such as a pool, gym, and concierge services. Experience the ultimate in comfort and convenience in this prestigious urban location.\"\n",
      "        },\n",
      "        {\n",
      "            \"Neighborhood\": \"Chic Studio\",\n",
      "            \"Price\": \"$300,000\",\n",
      "            \"Bedrooms\": 0,\n",
      "            \"Bathrooms\": 1,\n",
      "            \"House Size\": \"500 sqft\",\n",
      "            \"Description\": \"Live in style in this chic studio apartment featuring an open layout, designer furnishings, and a sleek kitchenette. The large windows provide plenty of natural light and views of the vibrant city below.\",\n",
      "            \"Neighborhood Description\": \"Located in a trendy downtown area, this studio is within walking distance to hip cafes, boutiques, and art galleries. Embrace the urban lifestyle and cultural scene of the bustling city center.\"\n",
      "        },\n",
      "        {\n",
      "            \"Neighborhood\": \"Downtown Penthouse\",\n",
      "            \"Price\": \"$2,000,000\",\n",
      "            \"Bedrooms\": 4,\n",
      "            \"Bathrooms\": 4,\n",
      "            \"House Size\": \"3,000 sqft\",\n",
      "            \"Description\": \"Elevate your living experience in this stunning downtown penthouse with 4 bedrooms, 4 bathrooms, and luxurious amenities. The private rooftop terrace offers sweeping views of the city skyline and mountains, perfect for hosting glamorous events.\",\n",
      "            \"Neighborhood Description\": \"Located in the heart of the vibrant downtown district, this penthouse provides easy access to top-rated restaurants, upscale shopping, and cultural attractions. Enjoy the sophistication and convenience of downtown living at its finest.\"\n",
      "        },\n",
      "        {\n",
      "            \"Neighborhood\": \"Historic Colonial Mansion\",\n",
      "            \"Price\": \"$1,800,000\",\n",
      "            \"Bedrooms\": 6,\n",
      "            \"Bathrooms\": 5,\n",
      "            \"House Size\": \"4,500 sqft\",\n",
      "            \"Description\": \"Step back in time in this majestic colonial mansion featuring 6 bedrooms, 5 bathrooms, and exquisite architectural details. The grand courtyard and lush garden offer a tranquil retreat from the modern world, perfect for hosting elegant gatherings.\",\n",
      "            \"Neighborhood Description\": \"Located in a historic district, this mansion is surrounded by cobblestone streets, charming cafes, and cultural landmarks. Immerse yourself in the rich history and colonial charm of this enchanting neighborhood.\"\n",
      "        },\n",
      "        {\n",
      "            \"Neighborhood\": \"Beachfront Villa\",\n",
      "            \"Price\": \"$2,500,000\",\n",
      "            \"Bedrooms\": 5,\n",
      "            \"Bathrooms\": 4,\n",
      "            \"House Size\": \"5,000 sqft\",\n",
      "            \"Description\": \"Escape to paradise in this luxurious beachfront villa with 5 bedrooms, 4 bathrooms, and private access to the sandy shores. The infinity pool, outdoor kitchen, and spacious verandas provide the ultimate tropical living experience.\",\n",
      "            \"Neighborhood Description\": \"Located in a prestigious beachfront community, this villa offers exclusive access to pristine beaches, water activities, and upscale dining options. Enjoy the laid-back lifestyle and breathtaking ocean views.\"\n",
      "        },\n",
      "        {\n",
      "            \"Neighborhood\": \"Mountain Retreat\",\n",
      "            \"Price\": \"$900,000\",\n",
      "            \"Bedrooms\": 4,\n",
      "            \"Bathrooms\": 3,\n",
      "            \"House Size\": \"2,800 sqft\",\n",
      "            \"Description\": \"Discover serenity in this mountain retreat featuring 4 bedrooms, 3 bathrooms, and scenic views of the surrounding peaks. The cozy fireplace, hot tub, and outdoor deck create a peaceful escape for relaxation and rejuvenation.\",\n",
      "            \"Neighborhood Description\": \"Located in a tranquil mountainous area, this property offers hiking trails, wildlife sightings, and fresh mountain air. Embrace the beauty and tranquility of nature in this idyllic mountain retreat.\"\n",
      "        }\n",
      "    ]\n",
      "}\n"
     ]
    }
   ],
   "source": [
    "# Initialize the OpenAI LLM\n",
    "llm = ChatOpenAI(model=model, temperature=1, max_tokens = 4000)\n",
    "\n",
    "# Create the LLMChain\n",
    "chain = LLMChain(llm=llm, prompt=prompt_template)\n",
    "\n",
    "# Generate the listings\n",
    "response = chain.run({})\n",
    "\n",
    "# Print the generated listings\n",
    "print(response)"
   ]
  },
  {
   "cell_type": "code",
   "execution_count": 62,
   "id": "4dc99149",
   "metadata": {},
   "outputs": [],
   "source": [
    "import json\n",
    "data = json.loads(response)\n"
   ]
  },
  {
   "cell_type": "code",
   "execution_count": 61,
   "id": "268a90ca",
   "metadata": {},
   "outputs": [
    {
     "name": "stdout",
     "output_type": "stream",
     "text": [
      "Data has been written to property_listings.csv\n"
     ]
    }
   ],
   "source": [
    "import csv\n",
    "\n",
    "# Extract the listings\n",
    "listings = data['listings']\n",
    "\n",
    "# Define the CSV file name\n",
    "csv_file = \"property_listings.csv\"\n",
    "\n",
    "# Write the listings to a CSV file\n",
    "with open(csv_file, mode='w', newline='', encoding='utf-8') as file:\n",
    "    writer = csv.DictWriter(file, fieldnames=listings[0].keys())\n",
    "    writer.writeheader()\n",
    "    writer.writerows(listings)\n",
    "\n",
    "print(f\"Data has been written to {csv_file}\")"
   ]
  },
  {
   "cell_type": "code",
   "execution_count": 14,
   "id": "21008727",
   "metadata": {},
   "outputs": [
    {
     "data": {
      "text/html": [
       "<div>\n",
       "<style scoped>\n",
       "    .dataframe tbody tr th:only-of-type {\n",
       "        vertical-align: middle;\n",
       "    }\n",
       "\n",
       "    .dataframe tbody tr th {\n",
       "        vertical-align: top;\n",
       "    }\n",
       "\n",
       "    .dataframe thead th {\n",
       "        text-align: right;\n",
       "    }\n",
       "</style>\n",
       "<table border=\"1\" class=\"dataframe\">\n",
       "  <thead>\n",
       "    <tr style=\"text-align: right;\">\n",
       "      <th></th>\n",
       "      <th>Neighborhood</th>\n",
       "      <th>Price</th>\n",
       "      <th>Bedrooms</th>\n",
       "      <th>Bathrooms</th>\n",
       "      <th>House Size</th>\n",
       "      <th>Description</th>\n",
       "      <th>Neighborhood Description</th>\n",
       "      <th>id</th>\n",
       "    </tr>\n",
       "  </thead>\n",
       "  <tbody>\n",
       "    <tr>\n",
       "      <th>0</th>\n",
       "      <td>Green Oaks</td>\n",
       "      <td>$800,000</td>\n",
       "      <td>3</td>\n",
       "      <td>2</td>\n",
       "      <td>2,000 sqft</td>\n",
       "      <td>Welcome to this eco-friendly oasis nestled in ...</td>\n",
       "      <td>Green Oaks is a close-knit, environmentally-co...</td>\n",
       "      <td>0</td>\n",
       "    </tr>\n",
       "    <tr>\n",
       "      <th>1</th>\n",
       "      <td>Lakefront Paradise</td>\n",
       "      <td>$1,200,000</td>\n",
       "      <td>4</td>\n",
       "      <td>3</td>\n",
       "      <td>3,500 sqft</td>\n",
       "      <td>Escape to this luxurious lakefront paradise fe...</td>\n",
       "      <td>Located in a serene lakefront community, this ...</td>\n",
       "      <td>1</td>\n",
       "    </tr>\n",
       "    <tr>\n",
       "      <th>2</th>\n",
       "      <td>Boho Hideaway</td>\n",
       "      <td>$500,000</td>\n",
       "      <td>2</td>\n",
       "      <td>1</td>\n",
       "      <td>1,200 sqft</td>\n",
       "      <td>Step into this bohemian-style hideaway with 2 ...</td>\n",
       "      <td>Located in a trendy boho neighborhood, this pr...</td>\n",
       "      <td>2</td>\n",
       "    </tr>\n",
       "    <tr>\n",
       "      <th>3</th>\n",
       "      <td>Urban Loft</td>\n",
       "      <td>$700,000</td>\n",
       "      <td>1</td>\n",
       "      <td>1</td>\n",
       "      <td>1,000 sqft</td>\n",
       "      <td>Experience city living at its finest in this m...</td>\n",
       "      <td>Located in the heart of the bustling city cent...</td>\n",
       "      <td>3</td>\n",
       "    </tr>\n",
       "    <tr>\n",
       "      <th>4</th>\n",
       "      <td>Luxury Condo</td>\n",
       "      <td>$1,500,000</td>\n",
       "      <td>3</td>\n",
       "      <td>3</td>\n",
       "      <td>2,500 sqft</td>\n",
       "      <td>Indulge in luxury living in this spacious cond...</td>\n",
       "      <td>Situated in an exclusive high-rise building, t...</td>\n",
       "      <td>4</td>\n",
       "    </tr>\n",
       "    <tr>\n",
       "      <th>5</th>\n",
       "      <td>Chic Studio</td>\n",
       "      <td>$300,000</td>\n",
       "      <td>0</td>\n",
       "      <td>1</td>\n",
       "      <td>500 sqft</td>\n",
       "      <td>Live in style in this chic studio apartment fe...</td>\n",
       "      <td>Located in a trendy downtown area, this studio...</td>\n",
       "      <td>5</td>\n",
       "    </tr>\n",
       "    <tr>\n",
       "      <th>6</th>\n",
       "      <td>Downtown Penthouse</td>\n",
       "      <td>$2,000,000</td>\n",
       "      <td>4</td>\n",
       "      <td>4</td>\n",
       "      <td>3,000 sqft</td>\n",
       "      <td>Elevate your living experience in this stunnin...</td>\n",
       "      <td>Located in the heart of the vibrant downtown d...</td>\n",
       "      <td>6</td>\n",
       "    </tr>\n",
       "    <tr>\n",
       "      <th>7</th>\n",
       "      <td>Historic Colonial Mansion</td>\n",
       "      <td>$1,800,000</td>\n",
       "      <td>6</td>\n",
       "      <td>5</td>\n",
       "      <td>4,500 sqft</td>\n",
       "      <td>Step back in time in this majestic colonial ma...</td>\n",
       "      <td>Located in a historic district, this mansion i...</td>\n",
       "      <td>7</td>\n",
       "    </tr>\n",
       "    <tr>\n",
       "      <th>8</th>\n",
       "      <td>Beachfront Villa</td>\n",
       "      <td>$2,500,000</td>\n",
       "      <td>5</td>\n",
       "      <td>4</td>\n",
       "      <td>5,000 sqft</td>\n",
       "      <td>Escape to paradise in this luxurious beachfron...</td>\n",
       "      <td>Located in a prestigious beachfront community,...</td>\n",
       "      <td>8</td>\n",
       "    </tr>\n",
       "    <tr>\n",
       "      <th>9</th>\n",
       "      <td>Mountain Retreat</td>\n",
       "      <td>$900,000</td>\n",
       "      <td>4</td>\n",
       "      <td>3</td>\n",
       "      <td>2,800 sqft</td>\n",
       "      <td>Discover serenity in this mountain retreat fea...</td>\n",
       "      <td>Located in a tranquil mountainous area, this p...</td>\n",
       "      <td>9</td>\n",
       "    </tr>\n",
       "  </tbody>\n",
       "</table>\n",
       "</div>"
      ],
      "text/plain": [
       "                Neighborhood       Price  Bedrooms  Bathrooms  House Size  \\\n",
       "0                 Green Oaks    $800,000         3          2  2,000 sqft   \n",
       "1         Lakefront Paradise  $1,200,000         4          3  3,500 sqft   \n",
       "2              Boho Hideaway    $500,000         2          1  1,200 sqft   \n",
       "3                 Urban Loft    $700,000         1          1  1,000 sqft   \n",
       "4               Luxury Condo  $1,500,000         3          3  2,500 sqft   \n",
       "5                Chic Studio    $300,000         0          1    500 sqft   \n",
       "6         Downtown Penthouse  $2,000,000         4          4  3,000 sqft   \n",
       "7  Historic Colonial Mansion  $1,800,000         6          5  4,500 sqft   \n",
       "8           Beachfront Villa  $2,500,000         5          4  5,000 sqft   \n",
       "9           Mountain Retreat    $900,000         4          3  2,800 sqft   \n",
       "\n",
       "                                         Description  \\\n",
       "0  Welcome to this eco-friendly oasis nestled in ...   \n",
       "1  Escape to this luxurious lakefront paradise fe...   \n",
       "2  Step into this bohemian-style hideaway with 2 ...   \n",
       "3  Experience city living at its finest in this m...   \n",
       "4  Indulge in luxury living in this spacious cond...   \n",
       "5  Live in style in this chic studio apartment fe...   \n",
       "6  Elevate your living experience in this stunnin...   \n",
       "7  Step back in time in this majestic colonial ma...   \n",
       "8  Escape to paradise in this luxurious beachfron...   \n",
       "9  Discover serenity in this mountain retreat fea...   \n",
       "\n",
       "                            Neighborhood Description id  \n",
       "0  Green Oaks is a close-knit, environmentally-co...  0  \n",
       "1  Located in a serene lakefront community, this ...  1  \n",
       "2  Located in a trendy boho neighborhood, this pr...  2  \n",
       "3  Located in the heart of the bustling city cent...  3  \n",
       "4  Situated in an exclusive high-rise building, t...  4  \n",
       "5  Located in a trendy downtown area, this studio...  5  \n",
       "6  Located in the heart of the vibrant downtown d...  6  \n",
       "7  Located in a historic district, this mansion i...  7  \n",
       "8  Located in a prestigious beachfront community,...  8  \n",
       "9  Located in a tranquil mountainous area, this p...  9  "
      ]
     },
     "execution_count": 14,
     "metadata": {},
     "output_type": "execute_result"
    }
   ],
   "source": [
    "import pandas as pd\n",
    "df = pd.read_csv(\"property_listings.csv\")\n",
    "df['id'] = df.index.astype(str)\n",
    "df"
   ]
  },
  {
   "cell_type": "markdown",
   "id": "ea39b98a",
   "metadata": {},
   "source": [
    "### Storing Listings in a Vector Database"
   ]
  },
  {
   "cell_type": "code",
   "execution_count": 17,
   "id": "80ad940d",
   "metadata": {},
   "outputs": [],
   "source": [
    "# combining descriptions details for easy embbeding\n",
    "df['combined_description'] = df['Description'] + \" \" + df['Neighborhood Description']\n"
   ]
  },
  {
   "cell_type": "markdown",
   "id": "75750654",
   "metadata": {},
   "source": [
    "### Generating embeddings\n",
    "\n",
    "We use OpenAI \"text-embedding-ada-002\" model to generate embedding for combined_description"
   ]
  },
  {
   "cell_type": "code",
   "execution_count": 27,
   "id": "52718967",
   "metadata": {},
   "outputs": [],
   "source": [
    "from langchain.embeddings import OpenAIEmbeddings\n",
    "\n",
    "# Initialise the embeddings model\n",
    "embeddings = OpenAIEmbeddings()\n",
    "\n",
    "emedding_vectors = embeddings.embed_documents(df['combined_description'].tolist())\n",
    "df['embedding'] = emedding_vectors"
   ]
  },
  {
   "cell_type": "markdown",
   "id": "ccd739c0",
   "metadata": {},
   "source": [
    "### Storing in ChromaDB"
   ]
  },
  {
   "cell_type": "code",
   "execution_count": 175,
   "id": "9b264d5d",
   "metadata": {},
   "outputs": [],
   "source": [
    "client.delete_collection(name=\"real_estate_listings\")"
   ]
  },
  {
   "cell_type": "code",
   "execution_count": 176,
   "id": "66b5e87c",
   "metadata": {},
   "outputs": [
    {
     "name": "stdout",
     "output_type": "stream",
     "text": [
      "adding document with id 0and embbeding dim : 1536\n",
      "adding document with id 1and embbeding dim : 1536\n",
      "adding document with id 2and embbeding dim : 1536\n",
      "adding document with id 3and embbeding dim : 1536\n",
      "adding document with id 4and embbeding dim : 1536\n",
      "adding document with id 5and embbeding dim : 1536\n",
      "adding document with id 6and embbeding dim : 1536\n",
      "adding document with id 7and embbeding dim : 1536\n",
      "adding document with id 8and embbeding dim : 1536\n",
      "adding document with id 9and embbeding dim : 1536\n"
     ]
    }
   ],
   "source": [
    "from chromadb import Client\n",
    "\n",
    "# Intialise chromdb\n",
    "client = Client()\n",
    "collection = client.get_or_create_collection(name=\"real_estate_listings\")\n",
    "\n",
    "# Adding data\n",
    "for idx, row in df.iterrows():\n",
    "    embedding = row['embedding']\n",
    "    print(f\"adding document with id {idx}and embbeding dim : {len(embedding)}\")\n",
    "    collection.add(\n",
    "    documents = [row['combined_description']],\n",
    "    embeddings = [embedding],\n",
    "    metadatas=[{\n",
    "        \"Neighborhood\": row[\"Neighborhood\"],\n",
    "        \"Price\": row[\"Price\"],\n",
    "        \"Bedrooms\": row[\"Bedrooms\"],\n",
    "        \"Bathrooms\": row[\"Bathrooms\"],\n",
    "        \"House Size\": row[\"House Size\"]\n",
    "    }],\n",
    "    ids=[str(idx)]\n",
    "    )\n",
    "    \n",
    "    "
   ]
  },
  {
   "cell_type": "markdown",
   "id": "f2a5951f",
   "metadata": {},
   "source": [
    "### Semantic Search of Listings Based on Buyer Preferences\n",
    "\n",
    "we can search for listings with precise filters like number of bedrooms and bathrooms or without filters just with brief descriptions"
   ]
  },
  {
   "cell_type": "code",
   "execution_count": 74,
   "id": "5accbf9c",
   "metadata": {},
   "outputs": [],
   "source": [
    "# embedding the query\n",
    "query_embed = embeddings.embed_query(\"look for a property beside lake\")"
   ]
  },
  {
   "cell_type": "code",
   "execution_count": 71,
   "id": "015c490a",
   "metadata": {},
   "outputs": [
    {
     "name": "stdout",
     "output_type": "stream",
     "text": [
      "{'Bathrooms': 3, 'Bedrooms': 4, 'House Size': '3,500 sqft', 'Neighborhood': 'Lakefront Paradise', 'Price': '$1,200,000'}\n",
      "Escape to this luxurious lakefront paradise featuring 4 bedrooms, 3 bathrooms, and breathtaking views of the crystal-clear water. The spacious open-concept living area opens up to a large deck, perfect for entertaining friends and family. Enjoy fishing, swimming, and boating right from your backyard. Located in a serene lakefront community, this property offers peace and tranquility away from the hustle and bustle of city life. Explore hiking trails, waterfalls, and wildlife in the surrounding natural beauty.\n",
      "{'Bathrooms': 3, 'Bedrooms': 4, 'House Size': '2,800 sqft', 'Neighborhood': 'Mountain Retreat', 'Price': '$900,000'}\n",
      "Discover serenity in this mountain retreat featuring 4 bedrooms, 3 bathrooms, and scenic views of the surrounding peaks. The cozy fireplace, hot tub, and outdoor deck create a peaceful escape for relaxation and rejuvenation. Located in a tranquil mountainous area, this property offers hiking trails, wildlife sightings, and fresh mountain air. Embrace the beauty and tranquility of nature in this idyllic mountain retreat.\n",
      "{'Bathrooms': 1, 'Bedrooms': 2, 'House Size': '1,200 sqft', 'Neighborhood': 'Boho Hideaway', 'Price': '$500,000'}\n",
      "Step into this bohemian-style hideaway with 2 bedrooms, 1 bathroom, and a cozy living space adorned with colorful textiles and unique decor. The outdoor patio is perfect for enjoying morning coffee or evening cocktails surrounded by lush tropical foliage. Located in a trendy boho neighborhood, this property is within walking distance to artisan shops, cafes, and live music venues. Embrace the artistic and free-spirited vibe of the area.\n",
      "{'Bathrooms': 4, 'Bedrooms': 5, 'House Size': '5,000 sqft', 'Neighborhood': 'Beachfront Villa', 'Price': '$2,500,000'}\n",
      "Escape to paradise in this luxurious beachfront villa with 5 bedrooms, 4 bathrooms, and private access to the sandy shores. The infinity pool, outdoor kitchen, and spacious verandas provide the ultimate tropical living experience. Located in a prestigious beachfront community, this villa offers exclusive access to pristine beaches, water activities, and upscale dining options. Enjoy the laid-back lifestyle and breathtaking ocean views.\n",
      "{'Bathrooms': 3, 'Bedrooms': 3, 'House Size': '2,500 sqft', 'Neighborhood': 'Luxury Condo', 'Price': '$1,500,000'}\n",
      "Indulge in luxury living in this spacious condo with 3 bedrooms, 3 bathrooms, and high-end finishes throughout. The wrap-around balcony offers panoramic views of the city skyline and ocean, perfect for watching the sunset in style. Situated in an exclusive high-rise building, this property provides resort-style amenities such as a pool, gym, and concierge services. Experience the ultimate in comfort and convenience in this prestigious urban location.\n"
     ]
    }
   ],
   "source": [
    "# Search by text similarity\n",
    "results = collection.query(query_embeddings=query_embed,\n",
    "                          n_results=5)\n",
    "\n",
    "\n",
    "# show results\n",
    "for i in range(len(results['documents'][0])):\n",
    "    print(results['metadatas'][0][i])\n",
    "    print(results['documents'][0][i])\n",
    "    "
   ]
  },
  {
   "cell_type": "code",
   "execution_count": 77,
   "id": "3c3b62ed",
   "metadata": {},
   "outputs": [
    {
     "name": "stdout",
     "output_type": "stream",
     "text": [
      "{'ids': [['1']], 'distances': [[0.29515165090560913]], 'metadatas': [[{'Bathrooms': 3, 'Bedrooms': 4, 'House Size': '3,500 sqft', 'Neighborhood': 'Lakefront Paradise', 'Price': '$1,200,000'}]], 'embeddings': None, 'documents': [['Escape to this luxurious lakefront paradise featuring 4 bedrooms, 3 bathrooms, and breathtaking views of the crystal-clear water. The spacious open-concept living area opens up to a large deck, perfect for entertaining friends and family. Enjoy fishing, swimming, and boating right from your backyard. Located in a serene lakefront community, this property offers peace and tranquility away from the hustle and bustle of city life. Explore hiking trails, waterfalls, and wildlife in the surrounding natural beauty.']]}\n",
      "{'Bathrooms': 3, 'Bedrooms': 4, 'House Size': '3,500 sqft', 'Neighborhood': 'Lakefront Paradise', 'Price': '$1,200,000'}\n",
      "Escape to this luxurious lakefront paradise featuring 4 bedrooms, 3 bathrooms, and breathtaking views of the crystal-clear water. The spacious open-concept living area opens up to a large deck, perfect for entertaining friends and family. Enjoy fishing, swimming, and boating right from your backyard. Located in a serene lakefront community, this property offers peace and tranquility away from the hustle and bustle of city life. Explore hiking trails, waterfalls, and wildlife in the surrounding natural beauty.\n"
     ]
    }
   ],
   "source": [
    "# search with additional filters\n",
    "\n",
    "filters = {\n",
    "    \"Bathrooms\": 3\n",
    "}\n",
    "\n",
    "results = collection.query(query_embeddings=query_embed,\n",
    "                           where=filters,\n",
    "                           n_results=1)\n",
    "\n",
    "# show results\n",
    "for i in range(len(results['documents'][0])):\n",
    "    print(results['metadatas'][0][i])\n",
    "    print(results['documents'][0][i])"
   ]
  },
  {
   "cell_type": "markdown",
   "id": "899158dc",
   "metadata": {},
   "source": [
    "## Personalizing Listing Descriptions using Open AI LLM"
   ]
  },
  {
   "cell_type": "code",
   "execution_count": 92,
   "id": "86fdb91a",
   "metadata": {},
   "outputs": [],
   "source": [
    "from langchain.vectorstores import Chroma\n",
    "from langchain.chains import RetrievalQA\n",
    "from langchain.schema import Document"
   ]
  },
  {
   "cell_type": "code",
   "execution_count": 94,
   "id": "c1313b79",
   "metadata": {},
   "outputs": [],
   "source": [
    "documents = []\n",
    "for idx, row in df.iterrows():\n",
    "    doc = Document(\n",
    "        page_content=row['combined_description'],\n",
    "        metadata={\n",
    "            \"Neighborhood\": row[\"Neighborhood\"],\n",
    "            \"Price\": row[\"Price\"],\n",
    "            \"Bedrooms\": row[\"Bedrooms\"],\n",
    "            \"Bathrooms\": row[\"Bathrooms\"],\n",
    "            \"House Size\": row[\"House Size\"]\n",
    "        }\n",
    "    )\n",
    "    documents.append(doc)\n",
    "\n",
    "# Create the Chroma vectorstore with texts and metadata\n",
    "db = Chroma.from_documents(documents=documents, embedding=embeddings)"
   ]
  },
  {
   "cell_type": "code",
   "execution_count": 95,
   "id": "ff1c80bc",
   "metadata": {},
   "outputs": [],
   "source": [
    "from langchain.chat_models import ChatOpenAI\n",
    "\n",
    "llm = ChatOpenAI()\n",
    "\n",
    "qa_chain = RetrievalQA.from_chain_type(llm=llm, retriever=db.as_retriever())"
   ]
  },
  {
   "cell_type": "code",
   "execution_count": 165,
   "id": "1af04d59",
   "metadata": {},
   "outputs": [],
   "source": [
    "prompt_template = \"\"\"\n",
    "You are an expert AI real estate agent. Based on the buyer's preferences, provide a personalized summary to buyer for each property.\n",
    "\n",
    "Buyer's Preferences:\n",
    "\n",
    "Neighborhood: {Neighborhood}\n",
    "Price: {Price}\n",
    "Bedrooms: {Bedrooms}\n",
    "Bathrooms: {Bathrooms}\n",
    "House Size: {House_Size}\n",
    "List of Properties:\n",
    "{properties}\n",
    "Task: Based on the buyer's preferences, provide a personalized summary for each property, highlighting how well it matches their criteria and any unique features that may appeal to them. Do not change the original details of the property \n",
    "if you didnt find any property matching their preferences suggest them something similar and tell them how they are also better. If something similar is also not found say didnt find any properties as per their requirement.\n",
    "Display all details of the property at first and then give your personalised summary to the buyer\"\"\""
   ]
  },
  {
   "cell_type": "code",
   "execution_count": 167,
   "id": "b9caef23",
   "metadata": {},
   "outputs": [
    {
     "data": {
      "text/plain": [
       "[(Document(page_content='Escape to this luxurious lakefront paradise featuring 4 bedrooms, 3 bathrooms, and breathtaking views of the crystal-clear water. The spacious open-concept living area opens up to a large deck, perfect for entertaining friends and family. Enjoy fishing, swimming, and boating right from your backyard. Located in a serene lakefront community, this property offers peace and tranquility away from the hustle and bustle of city life. Explore hiking trails, waterfalls, and wildlife in the surrounding natural beauty.', metadata={'Bathrooms': 3, 'Bedrooms': 4, 'House Size': '3,500 sqft', 'Neighborhood': 'Lakefront Paradise', 'Price': '$1,200,000'}),\n",
       "  0.26687294244766235),\n",
       " (Document(page_content='Escape to this luxurious lakefront paradise featuring 4 bedrooms, 3 bathrooms, and breathtaking views of the crystal-clear water. The spacious open-concept living area opens up to a large deck, perfect for entertaining friends and family. Enjoy fishing, swimming, and boating right from your backyard. Located in a serene lakefront community, this property offers peace and tranquility away from the hustle and bustle of city life. Explore hiking trails, waterfalls, and wildlife in the surrounding natural beauty.', metadata={'Bathrooms': 3, 'Bedrooms': 4, 'House Size': '3,500 sqft', 'Neighborhood': 'Lakefront Paradise', 'Price': '$1,200,000'}),\n",
       "  0.26687294244766235),\n",
       " (Document(page_content='Discover serenity in this mountain retreat featuring 4 bedrooms, 3 bathrooms, and scenic views of the surrounding peaks. The cozy fireplace, hot tub, and outdoor deck create a peaceful escape for relaxation and rejuvenation. Located in a tranquil mountainous area, this property offers hiking trails, wildlife sightings, and fresh mountain air. Embrace the beauty and tranquility of nature in this idyllic mountain retreat.', metadata={'Bathrooms': 3, 'Bedrooms': 4, 'House Size': '2,800 sqft', 'Neighborhood': 'Mountain Retreat', 'Price': '$900,000'}),\n",
       "  0.3330020308494568)]"
      ]
     },
     "execution_count": 167,
     "metadata": {},
     "output_type": "execute_result"
    }
   ],
   "source": [
    "results = db.similarity_search_with_score(\"Looking for a lakehouse far from urban area\", k=3)\n",
    "results"
   ]
  },
  {
   "cell_type": "code",
   "execution_count": 168,
   "id": "0597118b",
   "metadata": {},
   "outputs": [
    {
     "name": "stdout",
     "output_type": "stream",
     "text": [
      "[{'Bathrooms': 3, 'Bedrooms': 4, 'House Size': '3,500 sqft', 'Neighborhood': 'Lakefront Paradise', 'Price': '$1,200,000', 'Description': 'Escape to this luxurious lakefront paradise featuring 4 bedrooms, 3 bathrooms, and breathtaking views of the crystal-clear water. The spacious open-concept living area opens up to a large deck, perfect for entertaining friends and family. Enjoy fishing, swimming, and boating right from your backyard. Located in a serene lakefront community, this property offers peace and tranquility away from the hustle and bustle of city life. Explore hiking trails, waterfalls, and wildlife in the surrounding natural beauty.'}]\n",
      "[{'Bathrooms': 3, 'Bedrooms': 4, 'House Size': '3,500 sqft', 'Neighborhood': 'Lakefront Paradise', 'Price': '$1,200,000', 'Description': 'Escape to this luxurious lakefront paradise featuring 4 bedrooms, 3 bathrooms, and breathtaking views of the crystal-clear water. The spacious open-concept living area opens up to a large deck, perfect for entertaining friends and family. Enjoy fishing, swimming, and boating right from your backyard. Located in a serene lakefront community, this property offers peace and tranquility away from the hustle and bustle of city life. Explore hiking trails, waterfalls, and wildlife in the surrounding natural beauty.'}, {'Bathrooms': 3, 'Bedrooms': 4, 'House Size': '3,500 sqft', 'Neighborhood': 'Lakefront Paradise', 'Price': '$1,200,000', 'Description': 'Escape to this luxurious lakefront paradise featuring 4 bedrooms, 3 bathrooms, and breathtaking views of the crystal-clear water. The spacious open-concept living area opens up to a large deck, perfect for entertaining friends and family. Enjoy fishing, swimming, and boating right from your backyard. Located in a serene lakefront community, this property offers peace and tranquility away from the hustle and bustle of city life. Explore hiking trails, waterfalls, and wildlife in the surrounding natural beauty.'}]\n"
     ]
    }
   ],
   "source": [
    "# Custom parser function to extract metadata\n",
    "def parse_metadata(doc):\n",
    "    if doc.metadata:\n",
    "        metadata = doc.metadata\n",
    "        page_content = doc.page_content\n",
    "        parsed_data = {\n",
    "            \"Bathrooms\": metadata.get(\"Bathrooms\"),\n",
    "            \"Bedrooms\": metadata.get(\"Bedrooms\"),\n",
    "            \"House Size\": metadata.get(\"House Size\"),\n",
    "            \"Neighborhood\": metadata.get(\"Neighborhood\"),\n",
    "            \"Price\": metadata.get(\"Price\"),\n",
    "            \"Description\": page_content\n",
    "        }\n",
    "    return parsed_data\n",
    "\n",
    "properties = []\n",
    "# Parsing the metadata\n",
    "for i in range(len(results[0])):\n",
    "    property_details = parse_metadata(results[0][0])\n",
    "    properties.append(property_details)\n",
    "    print(properties)\n",
    "\n"
   ]
  },
  {
   "cell_type": "code",
   "execution_count": 169,
   "id": "307118b0",
   "metadata": {},
   "outputs": [],
   "source": [
    "from langchain.chat_models import ChatOpenAI\n",
    "from langchain import LLMChain, PromptTemplate\n",
    "prompt_template = PromptTemplate(\n",
    "    input_variables=[\"Neighborhood\", \"Price\", \"Bedrooms\", \"Bathrooms\", \"House_Size\", \"properties\"],\n",
    "    template=prompt_template)"
   ]
  },
  {
   "cell_type": "code",
   "execution_count": 170,
   "id": "8b74a629",
   "metadata": {},
   "outputs": [],
   "source": [
    "buyer_preferences = {\n",
    "    \"Neighborhood\": \"No preference\",\n",
    "    \"Price\": \"$1,000,000 - $1,500,0000\",\n",
    "    \"Bedrooms\": \"2\",\n",
    "    \"Bathrooms\": \"2\",\n",
    "    \"House_Size\": \"1,000 - 4,000 sqft\",\n",
    "    \"properties\": properties}"
   ]
  },
  {
   "cell_type": "code",
   "execution_count": 171,
   "id": "5cd0b32c",
   "metadata": {},
   "outputs": [
    {
     "name": "stdout",
     "output_type": "stream",
     "text": [
      "Property 1:\n",
      "Neighborhood: Lakefront Paradise\n",
      "Price: $1,200,000\n",
      "Bedrooms: 4\n",
      "Bathrooms: 3\n",
      "House Size: 3,500 sqft\n",
      "Description: Escape to this luxurious lakefront paradise featuring 4 bedrooms, 3 bathrooms, and breathtaking views of the crystal-clear water. The spacious open-concept living area opens up to a large deck, perfect for entertaining friends and family. Enjoy fishing, swimming, and boating right from your backyard. Located in a serene lakefront community, this property offers peace and tranquility away from the hustle and bustle of city life. Explore hiking trails, waterfalls, and wildlife in the surrounding natural beauty.\n",
      "\n",
      "Personalized Summary: This property exceeds your criteria in terms of bedrooms, bathrooms, and house size. The Lakefront Paradise neighborhood offers a peaceful retreat with stunning lake views and easy access to water activities. The spacious deck is perfect for entertaining, and the natural surroundings provide a tranquil atmosphere for relaxation. This property aligns well with your preferences and offers a unique waterfront lifestyle.\n",
      "\n",
      "Property 2:\n",
      "Neighborhood: Lakefront Paradise\n",
      "Price: $1,200,000\n",
      "Bedrooms: 4\n",
      "Bathrooms: 3\n",
      "House Size: 3,500 sqft\n",
      "Description: Escape to this luxurious lakefront paradise featuring 4 bedrooms, 3 bathrooms, and breathtaking views of the crystal-clear water. The spacious open-concept living area opens up to a large deck, perfect for entertaining friends and family. Enjoy fishing, swimming, and boating right from your backyard. Located in a serene lakefront community, this property offers peace and tranquility away from the hustle and bustle of city life. Explore hiking trails, waterfalls, and wildlife in the surrounding natural beauty.\n",
      "\n",
      "Personalized Summary: This property meets your criteria for bedrooms, bathrooms, and house size, but it appears to be a duplicate listing. If you are interested in a lakefront property with luxurious amenities and serene surroundings, this property is a strong match for your preferences. The open-concept living area, large deck, and access to water activities make it an ideal choice for tranquil lakeside living.\n",
      "\n",
      "If you didn't find any property matching their preferences:\n",
      "We regret to inform you that we were unable to find any properties that exactly match your preferences. However, we recommend considering properties in waterfront communities with similar amenities and features to meet your criteria. Properties like Lakefront Retreat or Riverside Haven may offer the tranquility and space you are seeking, along with unique waterfront views and outdoor activities.\n"
     ]
    }
   ],
   "source": [
    "# Initialize the OpenAI LLM\n",
    "llm = ChatOpenAI(model=model, temperature=1, max_tokens = 4000)\n",
    "\n",
    "# Create the LLMChain\n",
    "chain = LLMChain(llm=llm, prompt=prompt_template)\n",
    "\n",
    "# Generate the listings\n",
    "response = chain.run(buyer_preferences)\n",
    "\n",
    "# Print the generated listings\n",
    "print(response)"
   ]
  },
  {
   "cell_type": "markdown",
   "id": "399b334d",
   "metadata": {},
   "source": [
    "We observe that these results are much promising when use LLM to give suggestions "
   ]
  },
  {
   "cell_type": "code",
   "execution_count": null,
   "id": "2b8eb860",
   "metadata": {},
   "outputs": [],
   "source": []
  }
 ],
 "metadata": {
  "kernelspec": {
   "display_name": "Python 3 (ipykernel)",
   "language": "python",
   "name": "python3"
  },
  "language_info": {
   "codemirror_mode": {
    "name": "ipython",
    "version": 3
   },
   "file_extension": ".py",
   "mimetype": "text/x-python",
   "name": "python",
   "nbconvert_exporter": "python",
   "pygments_lexer": "ipython3",
   "version": "3.10.11"
  }
 },
 "nbformat": 4,
 "nbformat_minor": 5
}
